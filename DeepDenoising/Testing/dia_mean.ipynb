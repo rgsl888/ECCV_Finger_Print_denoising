{
 "cells": [
  {
   "cell_type": "code",
   "execution_count": 1,
   "metadata": {},
   "outputs": [],
   "source": [
    "import caffe\n",
    "import numpy as np\n",
    "import cv2\n",
    "import matplotlib.pyplot as plt\n",
    "import glob\n",
    "import os\n",
    "%matplotlib inline"
   ]
  },
  {
   "cell_type": "code",
   "execution_count": 2,
   "metadata": {},
   "outputs": [],
   "source": [
    "net = caffe.Net('xiaojing_dilated_convolution/no_pad_dia/11/deploy_denoise.prototxt',\n",
    "                'xiaojing_dilated_convolution/no_pad_dia/new_set/11/denoising_net_iter_1500000.caffemodel', \n",
    "                caffe.TEST )"
   ]
  },
  {
   "cell_type": "code",
   "execution_count": 3,
   "metadata": {},
   "outputs": [],
   "source": [
    "transformer = caffe.io.Transformer({'data': net.blobs['data'].data.shape})\n",
    "#transformer.set_mean('data',104)"
   ]
  },
  {
   "cell_type": "code",
   "execution_count": 4,
   "metadata": {},
   "outputs": [],
   "source": [
    "#net.blobs['data'].reshape(1,1,400,275)"
   ]
  },
  {
   "cell_type": "code",
   "execution_count": 5,
   "metadata": {},
   "outputs": [],
   "source": [
    "val_images_path = '/home/rgsl888/Finger_Print_dataset/validation_input_back/'\n",
    "val_out_path = '/home/rgsl888/Finger_Print_dataset/validation_out_xiaojing_dia_no_pad_1500000/'\n",
    "img_ext = '.jpg'\n",
    "\n",
    "if not os.path.exists(val_images_path):\n",
    "    os.makedirs(val_images_path)\n",
    "if not os.path.exists(val_out_path):\n",
    "    os.makedirs(val_out_path)\n",
    "images = glob.glob (val_images_path + \"/*\" + img_ext)\n"
   ]
  },
  {
   "cell_type": "code",
   "execution_count": 6,
   "metadata": {},
   "outputs": [],
   "source": [
    "for img in images:\n",
    "    im = cv2.imread(img,0)\n",
    "    im = im - np.array((104.00698793)) \n",
    "    net.blobs['data'].data[...] = transformer.preprocess('data', im)\n",
    "    out = net.forward()\n",
    "    #plt.imshow(out['output'][0][0])\n",
    "    img_name = img.split('/')\n",
    "    denoised_img = out['output'][0][0]\n",
    "    denoised_img += np.array((104.00698793))\n",
    "    denoised_img = np.clip(np.rint(denoised_img), 0, 255.0)\n",
    "    #denoised_img = cv2.resize(denoised_img, (275, 400))\n",
    "    cv2.imwrite(val_out_path + img_name[-1], denoised_img)"
   ]
  },
  {
   "cell_type": "code",
   "execution_count": null,
   "metadata": {},
   "outputs": [],
   "source": []
  }
 ],
 "metadata": {
  "kernelspec": {
   "display_name": "Python [conda env:cf]",
   "language": "python",
   "name": "conda-env-cf-py"
  },
  "language_info": {
   "codemirror_mode": {
    "name": "ipython",
    "version": 2
   },
   "file_extension": ".py",
   "mimetype": "text/x-python",
   "name": "python",
   "nbconvert_exporter": "python",
   "pygments_lexer": "ipython2",
   "version": "2.7.15"
  }
 },
 "nbformat": 4,
 "nbformat_minor": 2
}
